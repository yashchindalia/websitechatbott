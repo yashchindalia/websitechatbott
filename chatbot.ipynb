{
 "cells": [
  {
   "cell_type": "code",
   "execution_count": 17,
   "id": "530f46dd",
   "metadata": {},
   "outputs": [],
   "source": [
    "import requests\n",
    "from bs4 import BeautifulSoup\n",
    "\n",
    "\n",
    "def extract_website_data(url):\n",
    "    response = requests.get(url)\n",
    "    soup = BeautifulSoup(response.content, 'html.parser')\n",
    "    paragraphs = soup.find_all('p')\n",
    "    extracted_data = [p.text for p in paragraphs]\n",
    "    return extracted_data\n"
   ]
  },
  {
   "cell_type": "code",
   "execution_count": 18,
   "id": "ba9ce851",
   "metadata": {},
   "outputs": [],
   "source": [
    "def process_data(extracted_data):\n",
    "    processed_data = \"\"\n",
    "  \n",
    "    return processed_data\n"
   ]
  },
  {
   "cell_type": "code",
   "execution_count": 19,
   "id": "18803157",
   "metadata": {},
   "outputs": [],
   "source": [
    "import openai\n",
    "\n",
    "\n",
    "openai.api_key = 'yashapi'\n",
    "\n",
    "\n",
    "def generate_chatbot_response(prompt):\n",
    "    response = openai.Completion.create(\n",
    "        engine=\"babbage-002\", \n",
    "        prompt=prompt,\n",
    "        max_tokens=150,  \n",
    "        n=1,\n",
    "        stop=None\n",
    "    )\n",
    "    return response.choices[0].text.strip()\n"
   ]
  },
  {
   "cell_type": "code",
   "execution_count": null,
   "id": "f624b291",
   "metadata": {},
   "outputs": [
    {
     "name": "stdout",
     "output_type": "stream",
     "text": [
      "Chatbot: Hello! How can I assist you today?\n"
     ]
    }
   ],
   "source": [
    "\n",
    "def main():\n",
    "    website_url = 'https://www.relinns.com/'\n",
    "    extracted_data = extract_website_data(website_url)\n",
    "    processed_data = process_data(extracted_data)\n",
    "    \n",
    "    print(\"Chatbot: Hello! How can I assist you today?\")\n",
    "    while True:\n",
    "        user_input = input(\"You: \")\n",
    "        if user_input.lower() == 'exit':\n",
    "            print(\"Chatbot: Goodbye!\")\n",
    "            break\n",
    "        user_prompt = f\"You: {user_input} | Website Data: {processed_data}\"\n",
    "        chatbot_response = generate_chatbot_response(user_prompt)\n",
    "        print(f\"Chatbot: {chatbot_response}\")\n",
    "\n",
    "if __name__ == \"__main__\":\n",
    "    main()\n"
   ]
  },
  {
   "cell_type": "code",
   "execution_count": null,
   "id": "74d52e97",
   "metadata": {},
   "outputs": [],
   "source": []
  },
  {
   "cell_type": "code",
   "execution_count": null,
   "id": "c0821108",
   "metadata": {},
   "outputs": [],
   "source": []
  }
 ],
 "metadata": {
  "kernelspec": {
   "display_name": "Python 3 (ipykernel)",
   "language": "python",
   "name": "python3"
  },
  "language_info": {
   "codemirror_mode": {
    "name": "ipython",
    "version": 3
   },
   "file_extension": ".py",
   "mimetype": "text/x-python",
   "name": "python",
   "nbconvert_exporter": "python",
   "pygments_lexer": "ipython3",
   "version": "3.11.4"
  }
 },
 "nbformat": 4,
 "nbformat_minor": 5
}
